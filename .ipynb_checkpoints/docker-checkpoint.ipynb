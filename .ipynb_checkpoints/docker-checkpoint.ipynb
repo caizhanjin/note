{
 "cells": [
  {
   "cell_type": "markdown",
   "metadata": {},
   "source": [
    "## docker 使用\n",
    "\n",
    "+ 准备\n",
    "\n",
    "```\n",
    "# 进入服务器\n",
    "ssh allen@10.100.3.200\n",
    "userallen\n",
    "\n",
    "# 拷贝数据到服务器\n",
    "scp -r /home/liutingting/Desktop/data/ allen@10.100.3.200:/home/allen/liutingting/data/\n",
    "\n",
    "# 从服务器拷贝数据到容器\n",
    "docker cp /home/allen/runner.py deepseg_serving:/root/deepseg/data/\n",
    "```\n",
    "\n",
    "+ docker操作 \n",
    "\n",
    "```\n",
    "# 拉取镜像：\n",
    "docker pull tensorflow/serving:{tag版本（不加默认latest）}\n",
    "\n",
    "# 列出运行容器\n",
    "docker ps \n",
    "\n",
    "# 列出所有容器\n",
    "docker ps -a\n",
    "```\n",
    "\n",
    "+ 环境部署\n",
    "\n",
    "```\n",
    "# 使用tensorflow/serving镜像创建容器\n",
    "docker run -p 8501:8501 \\\n",
    "  --mount type=bind,source=/path/to/my_model/,target=/models/my_model \\\n",
    "  -e MODEL_NAME=my_model -t tensorflow/serving\n",
    "\n",
    "# 交互模型创建并启动容器\n",
    "docker run -it nginx:latest /bin/bash\n",
    "docker run -it --name con_name --net=host tensorflow/serving:latest-devel /bin/bash\n",
    "\n",
    "# 访问的例子\n",
    "curl -d '{\"instances\": [1.0, 2.0, 5.0]}' \\\n",
    "    -X POST http://localhost:8501/v1/models/half_plus_two:predict\n",
    "\n",
    "# 之后进入镜像\n",
    "docker exec -i -t  mynginx /bin/bash\n",
    "\n",
    "# 进入镜像后启动模型服务\n",
    "tensorflow_model_server --port=8500 --rest_api_port=8501 \\\n",
    "  --model_name=my_model --model_base_path=/models/my_model\n",
    "\n",
    "./tensorflow_model_server --model_name=address --port=8089 --model_base_path=/root/deepseg_models/1544678621 --per_process_gpu_memory_fraction=0.4 --file_system_poll_wait_seconds=30\n",
    "```\n",
    "\n"
   ]
  },
  {
   "cell_type": "code",
   "execution_count": null,
   "metadata": {},
   "outputs": [],
   "source": []
  }
 ],
 "metadata": {
  "kernelspec": {
   "display_name": "Python 3",
   "language": "python",
   "name": "python3"
  },
  "language_info": {
   "codemirror_mode": {
    "name": "ipython",
    "version": 3
   },
   "file_extension": ".py",
   "mimetype": "text/x-python",
   "name": "python",
   "nbconvert_exporter": "python",
   "pygments_lexer": "ipython3",
   "version": "3.5.4"
  }
 },
 "nbformat": 4,
 "nbformat_minor": 2
}
