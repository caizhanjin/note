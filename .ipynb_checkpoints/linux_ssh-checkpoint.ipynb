{
 "cells": [
  {
   "cell_type": "markdown",
   "metadata": {},
   "source": [
    "## ssh远程服务器\n",
    "\n",
    "```\n",
    "1、虚拟机的ssh有没有安装和启动\n",
    "# 检查ssh是否安装：\n",
    "ps -e |grep ssh\n",
    "\n",
    "# 安装openssh-server\n",
    "sudo apt-get install openssh-server\n",
    "\n",
    "# 启动ssh\n",
    "service ssh start\n",
    "ps -e |grep ssh\n",
    "\n",
    "\n",
    "2、防火墙有没有关闭\n",
    "#防火墙状态查看\n",
    "sudo ufw status\n",
    "\n",
    "#inactive：防火墙是关闭的\n",
    "#active：防火墙是开启的\n",
    "\n",
    "#防火墙关闭\n",
    "sudo wfw disable\n",
    "#防火墙开启\n",
    "sudo ufw enable\n",
    "\n",
    "#端口设置\n",
    "ufw default allow:外来访问默认允许\n",
    "ufw default deny:外来访问默认拒绝\n",
    "ufw allow 20：允许外部访问20端口,20后可跟/tcp或/udp，表示tcp或udp封包\n",
    "ufw deny 20：拒绝外部访问20端口,20后可跟/tcp或/udp，表示tcp或udp封包\n",
    "sudo ufw allow from IP: 允许此IP访问所有的本机端口\n",
    "ufw delete allow/deny 20:删除以前定义的\"允许/拒绝访问20端口\"的规则\n",
    "\n",
    "3、网卡方面的设置：1 桥接网卡 2 （host-only）\n",
    "https://blog.csdn.net/u014796999/article/details/52576846 \n",
    "```\n"
   ]
  },
  {
   "cell_type": "code",
   "execution_count": null,
   "metadata": {},
   "outputs": [],
   "source": []
  }
 ],
 "metadata": {
  "kernelspec": {
   "display_name": "Python 3",
   "language": "python",
   "name": "python3"
  },
  "language_info": {
   "codemirror_mode": {
    "name": "ipython",
    "version": 3
   },
   "file_extension": ".py",
   "mimetype": "text/x-python",
   "name": "python",
   "nbconvert_exporter": "python",
   "pygments_lexer": "ipython3",
   "version": "3.5.4"
  }
 },
 "nbformat": 4,
 "nbformat_minor": 2
}
