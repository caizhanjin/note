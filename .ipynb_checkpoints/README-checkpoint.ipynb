{
 "cells": [
  {
   "cell_type": "markdown",
   "metadata": {},
   "source": [
    "# Basics for machine learning\n"
   ]
  },
  {
   "cell_type": "markdown",
   "metadata": {},
   "source": [
    "## 深度学习\n",
    "\n",
    "+ [实例汇总](./learn_machine_learing/deep_learning/example_summry.ipynb)\n",
    "+ [概念&资料汇总](./learn_machine_learing/deep_learning/concept.ipynb)\n",
    "\n",
    "\n",
    "+ 工作站的搭建\n",
    "+ 数学基础：张量\n",
    "+ [理解深度学习](./learn_machine_learing/deep_learning/understand_deeplearning.ipynb)\n",
    "+ [神经网络入门](./learn_machine_learing/deep_learning/introduction_NN.ipynb)\n",
    "+ [分类问题、标注问题与回归问题的区别](./learn_machine_learing/deep_learning/problem.ipynb)\n",
    "\n",
    "\n",
    "+ [神经网络基础模型](./learn_machine_learing/deep_learning/base_model.ipynb)\n",
    "+ 数据预处理\n",
    "+ [数据预处理之embedding](./learn_machine_learing/deep_learning/embedding.ipynb)\n",
    "\n",
    "\n",
    "+ [调优之调参技巧](./learn_machine_learing/deep_learning/adjust_param.ipynb)\n",
    "+ [调优之激活函数](./learn_machine_learing/deep_learning/activation_function.ipynb)\n",
    "+ [调优之正则化&dropout](./learn_machine_learing/deep_learning/dropout.ipynb)\n",
    "\n",
    "\n",
    "+ [循环神经网络RNN之入门](./learn_machine_learing/deep_learning/RNN.ipynb)\n",
    "+ [循环神经网络RNN之模型（待总结）](./learn_machine_learing/deep_learning/RNN_model.ipynb)\n",
    "+ [深度学习用于文档和序列（待总结）](./learn_machine_learing/deep_learning/for_text_and_sequence.ipynb)\n",
    "\n",
    "\n",
    "\n",
    "+ [卷积神经网络CNN之入门](./learn_machine_learing/deep_learning/CNN.ipynb)\n",
    "+ [卷积神经网络CNN之模型（待续，课程第4章）](./learn_machine_learing/deep_learning/CNN_model.ipynb)\n",
    "\n",
    "\n",
    "## TensorFlow\n",
    "\n",
    "+ [实例整理](./learn_tensorflow/examples.ipynb)\n",
    "\n",
    "\n",
    "+ [概念或资料整理](./learn_tensorflow/concept.ipynb)\n",
    "+ [基础](./learn_tensorflow/basics.ipynb)\n",
    "+ [变量管理](./learn_tensorflow/variable.ipynb)\n",
    "+ [tf.data](./learn_tensorflow/tf_data.ipynb)\n",
    "+ [Tensorflow之损失函数](./learn_tensorflow/loss.ipynb)\n",
    "+ [Tensorflow之优化算法（十种）](./learn_tensorflow/optimizer.ipynb)\n",
    "+ [神经网络优化几种方法](./learn_tensorflow/regularizer.ipynb)\n",
    "+ [特征列 Feature Column](./learn_tensorflow/feature_column.ipynb)\n",
    "+ fine-tune\n",
    "+ tensorBoard\n",
    "+ [图像数据增强](./learn_tensorflow/data_img_enhance.ipynb)\n",
    "\n",
    "\n",
    "+ [高阶API之tf.keras](./learn_tensorflow/keras.ipynb)\n",
    "+ [高阶API之tf.estimator](./learn_tensorflow/keras.ipynb)\n",
    "+ 高阶API之layers模块  http://ju.outofmemory.cn/entry/344970\n",
    "   \n",
    "\n",
    "+ [提供server之docker环境部署](./learn_tensorflow/docker.ipynb)\n",
    "    \n",
    "    \n",
    "+ tensorflow之hoot\n",
    "    + https://blog.csdn.net/MrR1ght/article/details/81006343\n",
    "\n"
   ]
  },
  {
   "cell_type": "markdown",
   "metadata": {},
   "source": [
    "## python编程\n",
    "\n",
    "+ [Python语言面试准备](https://github.com/taizilongxu/interview_python)\n",
    "\n",
    "+ [常见问题汇总](./python_common.ipynb)\n",
    "\n",
    "+ [多进程和多线程](./multi_process.ipynb)\n",
    "    + [进程、线程、协程及IO模型](https://www.cnblogs.com/xuyaping/p/6825115.html)\n",
    "\n",
    "+ [pip & conda & apt 使用记录](./pip_conda.ipynb)\n",
    "\n",
    "\n"
   ]
  },
  {
   "cell_type": "markdown",
   "metadata": {},
   "source": [
    "### linux编程\n",
    "\n",
    "+ [常见命令总结](./linux_common.ipynb)\n",
    "\n",
    "+ [服务器：用VNC搭建Ubuntu VNC可视化界面](./vnc.ipynb)\n",
    "    + [参考链接](https://help.aliyun.com/knowledge_detail/59330.html)：\n",
    "    \n",
    "+ [SWAP ： 设置交换分区，虚拟内存](./swap.ipynb)\n",
    "    + [参考链接](https://help.aliyun.com/knowledge_detail/42534.html?spm=5176.10695662.1996646101.searchclickresult.35aa544ckabE9u)\n",
    "\n",
    "+ [ssh远程服务器](linux_ssh.ipynb)\n",
    "\n",
    "+ [定时执行任务/脚本](https://www.cnblogs.com/kaituorensheng/p/4494321.html)\n",
    "    + [延伸：windows定时执行](https://blog.csdn.net/liu050604/article/details/82590504)\n",
    "\n",
    "+ [进程、线程、协程及IO模型](https://www.cnblogs.com/xuyaping/p/6825115.html)\n",
    "+ [进程、进程组、会话之间关系](https://blog.csdn.net/mijichui2153/article/details/81394387)\n",
    "+ [hon实现守护进程](https://blog.csdn.net/u013210620/article/details/78710532)\n",
    "\n",
    "\n",
    "### 数据库\n",
    "+ [SQL速查表](https://github.com/enochtangg/quick-SQL-cheatsheet/blob/master/README_zh-hans.md)\n",
    "+ [mongodb]()\n",
    "+ [es分布式搜索引擎](https://www.elastic.co/guide/cn/elasticsearch/guide/current/getting-started.html)\n",
    "\n",
    "\n"
   ]
  },
  {
   "cell_type": "markdown",
   "metadata": {},
   "source": [
    "### docker环境搭建\n",
    "+ [docker使用（例子tensorflow环境）](./docker.ipynb)\n",
    "\n",
    "### GIT工具\n",
    "+ [git速查](./git.ipynb)\n",
    "\n",
    "### Markdown工具\n",
    "+ [howToUseMarkdown](./howToUseMarkdown.ipynb)\n"
   ]
  },
  {
   "cell_type": "code",
   "execution_count": null,
   "metadata": {},
   "outputs": [],
   "source": []
  }
 ],
 "metadata": {
  "kernelspec": {
   "display_name": "Python 3",
   "language": "python",
   "name": "python3"
  },
  "language_info": {
   "codemirror_mode": {
    "name": "ipython",
    "version": 3
   },
   "file_extension": ".py",
   "mimetype": "text/x-python",
   "name": "python",
   "nbconvert_exporter": "python",
   "pygments_lexer": "ipython3",
   "version": "3.5.4"
  }
 },
 "nbformat": 4,
 "nbformat_minor": 2
}
