{
 "cells": [
  {
   "cell_type": "markdown",
   "metadata": {},
   "source": [
    "## 常见问题汇总\n",
    "\n",
    "+ python项目会包含requirements.txt文件，用于记录所有依赖包及准确版本号，部署新环境\n",
    "\n",
    "```\n",
    "# 导出\n",
    "pip freeze > requirements.txt\n",
    "# 创建\n",
    "pip install -r requirements.txt\n",
    "```\n",
    "\n",
    "+ 转成字符串及转换编码  str(r, encoding='utf8')\n",
    "\n",
    "+ 格式化输出json：`print(json.dumps(result, sort_keys=True, indent=2)) `\n",
    "\n",
    "### 运算符问题\n",
    "\n",
    "```\n",
    "$a += 5 等价于 $a =$a+5;（这是js里面的用法）\n",
    "\n",
    "++前置和后置问题，自身的都会发生改变，\n",
    "优先级：前置 > ‘=’ > 后置，例子：\n",
    "a=i++ 等价于 a=i; i=i+1;\n",
    "a=++i 等价于 a=i+1; i=i+1;\n",
    "```"
   ]
  },
  {
   "cell_type": "code",
   "execution_count": null,
   "metadata": {},
   "outputs": [],
   "source": []
  }
 ],
 "metadata": {
  "kernelspec": {
   "display_name": "Python 3",
   "language": "python",
   "name": "python3"
  },
  "language_info": {
   "codemirror_mode": {
    "name": "ipython",
    "version": 3
   },
   "file_extension": ".py",
   "mimetype": "text/x-python",
   "name": "python",
   "nbconvert_exporter": "python",
   "pygments_lexer": "ipython3",
   "version": "3.5.4"
  }
 },
 "nbformat": 4,
 "nbformat_minor": 2
}
