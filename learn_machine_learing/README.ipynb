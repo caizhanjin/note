{
 "cells": [
  {
   "cell_type": "markdown",
   "metadata": {},
   "source": [
    "# Basics for machine learning\n",
    "\n",
    "\n",
    "## 深度学习\n",
    "\n",
    "+ [实例汇总](./deep_learning/example_summry.ipynb)\n",
    "+ [概念&资料汇总](./deep_learning/concept.ipynb)\n",
    "\n",
    "\n",
    "+ 工作站的搭建\n",
    "+ 数学基础：张量\n",
    "+ [理解深度学习](./deep_learning/understand_deeplearning.ipynb)\n",
    "+ [神经网络入门](./deep_learning/introduction_NN.ipynb)\n",
    "+ [分类问题、标注问题与回归问题的区别](././deep_learning/problem.ipynb)\n",
    "\n",
    "\n",
    "+ [神经网络基础模型](./deep_learning/base_model.ipynb)\n",
    "+ 数据预处理\n",
    "+ [数据预处理之embedding](./deep_learning/embedding.ipynb)\n",
    "\n",
    "\n",
    "+ [调优之调参技巧](./deep_learning/adjust_param.ipynb)\n",
    "+ [调优之激活函数](./deep_learning/activation_function.ipynb)\n",
    "+ [调优之正则化&dropout](./deep_learning/dropout.ipynb)\n",
    "\n",
    "\n",
    "+ [循环神经网络RNN之入门](./deep_learning/RNN.ipynb)\n",
    "+ [循环神经网络RNN之模型（待总结）](./deep_learning/RNN_model.ipynb)\n",
    "+ [深度学习用于文档和序列（待总结）](./deep_learning/for_text_and_sequence.ipynb)\n",
    "\n",
    "\n",
    "\n",
    "+ [卷积神经网络CNN之入门](./deep_learning/CNN.ipynb)\n",
    "+ [卷积神经网络CNN之模型（待续，课程第4章）](./deep_learning/CNN_model.ipynb)\n",
    "\n",
    "\n",
    "## 机器学习\n",
    "\n",
    "+ 环境&需要的包\n",
    "+ 监督学习\n",
    "+ 无监督学习与预处理\n",
    "+ 数据表示与特征工程\n",
    "+ 模型评估与改进\n",
    "+ 算法链与管道\n",
    "+ 处理文本数据\n",
    "\n",
    "\n",
    "## 统计学习方法\n",
    "\n",
    "+ 统计学习方法概论\n",
    "+ 感知机\n",
    "+ K近邻算法\n",
    "+ 朴素贝叶斯法\n",
    "+ 决策树\n"
   ]
  },
  {
   "cell_type": "code",
   "execution_count": null,
   "metadata": {},
   "outputs": [],
   "source": []
  }
 ],
 "metadata": {
  "kernelspec": {
   "display_name": "Python 3",
   "language": "python",
   "name": "python3"
  },
  "language_info": {
   "codemirror_mode": {
    "name": "ipython",
    "version": 3
   },
   "file_extension": ".py",
   "mimetype": "text/x-python",
   "name": "python",
   "nbconvert_exporter": "python",
   "pygments_lexer": "ipython3",
   "version": "3.5.4"
  }
 },
 "nbformat": 4,
 "nbformat_minor": 2
}
