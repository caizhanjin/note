{
 "cells": [
  {
   "cell_type": "markdown",
   "metadata": {},
   "source": [
    "# 神经网络基础模型\n",
    "神经网络一般都包括以下几个部分：\n",
    "+ 1、数据预处理：处理好数据并保存下来，方便第2步调用。\n",
    "+ 2、取数据api封装，一般包括3个：\n",
    "    + 数据集封装\n",
    "    + 词表封装\n",
    "    + 类别封装  \n",
    "+ 3、构建网络：网络结构和前向传播的输出结果。\n",
    "+ 4、训练流程：定义损失函数以及选择反向传播优化的算法。\n",
    "+ 5、生成会话tf.Session：在训练、数据上反复运行反向传播优化算法。\n",
    "+ 5、优化\n",
    "\n",
    "\n",
    "\n",
    "## 得到结果分析\n",
    "### 分析\n",
    "训练出来的结果一般会出现下面几种情况：\n",
    "+ bias用来衡量训练集和最小误差的差距。高bias往往意味着模型没有训练到位，就是欠拟合。\n",
    "    + low bias：1、4\n",
    "    + high bias：2、3\n",
    "+ variance指验证集和训练集效果的差别。高variance则意味着模型训练过头了，过拟合。不过，过拟合一般是训练集误差很小而验证集/测试集误差很大。\n",
    "    + hight variance：1\n",
    "+ 如果两者都高，模型不行。\n",
    "![alt_text](./img/analysis_result.png)\n",
    "\n",
    "### 解决方向\n",
    "high bias（欠拟合）：意味着模型差或者训练不够，连训练集的内容还没识别好，先可以不考虑数据量的问题。一般会采用下面几种方法：\n",
    "+ 1、尝试使用更复杂、更大的网络结构（增加单元数、增加层数、或者更改结构）\n",
    "+ 2、训练更长的时间（增加迭代次数）\n",
    "\n",
    "欠拟合问题解决后，再解决high variance（过拟合），过拟合意味着训练集的数据还不能很好的反应验证集的特征，因此需要更多的数据。如果还不行，就需要考虑正则化了。\n",
    "+ 1、收集更多的训练样本训练\n",
    "+ 2、使用正则化手段\n",
    "\n"
   ]
  },
  {
   "cell_type": "code",
   "execution_count": null,
   "metadata": {},
   "outputs": [],
   "source": []
  }
 ],
 "metadata": {
  "kernelspec": {
   "display_name": "Python 3",
   "language": "python",
   "name": "python3"
  },
  "language_info": {
   "codemirror_mode": {
    "name": "ipython",
    "version": 3
   },
   "file_extension": ".py",
   "mimetype": "text/x-python",
   "name": "python",
   "nbconvert_exporter": "python",
   "pygments_lexer": "ipython3",
   "version": "3.5.0"
  }
 },
 "nbformat": 4,
 "nbformat_minor": 2
}
