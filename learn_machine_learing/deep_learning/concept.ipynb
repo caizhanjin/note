{
 "cells": [
  {
   "cell_type": "markdown",
   "metadata": {},
   "source": [
    "# 概念&资料汇总\n",
    "\n",
    "\n",
    "### 交叉熵\n",
    "机器学习一般使用交叉熵作为loss函数，用来计算目标与预测值之间的差距。\n",
    "\n",
    "https://blog.csdn.net/tsyccnh/article/details/79163834\n",
    "\n",
    "\n",
    "### softmax\n",
    "softmax一层额外的处理层，将神经网络的输出变成一个概率分布。把一些输入映射为0-1之间的实数，并且归一化保证和为1，因此多分类的概率之和也刚好为1。\n",
    "![alt_text](./img/softmax.png)\n",
    "\n",
    "https://blog.csdn.net/bitcarmanlee/article/details/82320853\n",
    "\n",
    "\n",
    "### 正则化\n",
    "机器学习中的一个核心问题是设计不仅在训练集上误差小，而且在新样本上泛化能力好的算法。许多机器学习算法都需要采取相应的策略来减少测试误差，这些策略被统称为正则化。\n",
    "\n",
    "https://segmentfault.com/a/1190000015486067\n",
    "\n",
    "\n",
    "### Dropout\n",
    "https://blog.csdn.net/program_developer/article/details/80737724\n",
    "\n",
    "\n",
    "\n"
   ]
  },
  {
   "cell_type": "code",
   "execution_count": null,
   "metadata": {},
   "outputs": [],
   "source": []
  }
 ],
 "metadata": {
  "kernelspec": {
   "display_name": "Python 3",
   "language": "python",
   "name": "python3"
  },
  "language_info": {
   "codemirror_mode": {
    "name": "ipython",
    "version": 3
   },
   "file_extension": ".py",
   "mimetype": "text/x-python",
   "name": "python",
   "nbconvert_exporter": "python",
   "pygments_lexer": "ipython3",
   "version": "3.5.0"
  }
 },
 "nbformat": 4,
 "nbformat_minor": 2
}
