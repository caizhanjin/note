{
 "cells": [
  {
   "cell_type": "markdown",
   "metadata": {},
   "source": [
    "# 实例汇总\n",
    "这是学习过程中是例子汇总。\n",
    "\n",
    "+ [基于keras：将电影划分正负面](/edit/code/learn_machine_learing/deep_learning/example/example1.py)\n",
    "+ [基于keras：将新闻按主题分类](/edit/code/learn_machine_learing/deep_learning/example/example2.py)\n",
    "+ [基于keras：根据房地产数据估算房屋价格](/edit/code/learn_machine_learing/deep_learning/example/example3.py)\n",
    "\n",
    "\n",
    "+ [单个神经元：构建图过程](/edit/code/learn_machine_learing/deep_learning/example/cifar10/neuron.py)\n",
    "+ [单个神经元：二分类](/edit/code/learn_machine_learing/deep_learning/example/cifar10/img_class_dichotomy_neuron.py)\n",
    "+ [多个神经元：多分类](/edit/code/learn_machine_learing/deep_learning/example/cifar10/img_class_multi-classification_neuron.py)\n",
    "+ [神经网络：卷积网络实现图像分类](/edit/code/learn_machine_learing/deep_learning/example/cifar10/neural-network.py)\n",
    "\n",
    "\n",
    "\n",
    "+ [卷积神经网络实现图像分类：resnet模型](/edit/code/learn_machine_learing/deep_learning/example/cifar10/conv_resnet.py)\n",
    "+ [卷积神经网络实现图像分类：vggnet模型](/edit/code/learn_machine_learing/deep_learning/example/cifar10/conv_vggnet.py)\n",
    "+ [卷积神经网络实现图像分类：vgg模型](/edit/code/learn_machine_learing/deep_learning/example/cifar10/conv_vgg.py)\n",
    "\n",
    "\n",
    "+ [调优之tensorboard可视化](/edit/code/learn_machine_learing/deep_learning/example/cifar10/vgg_tensorboard.py)\n",
    "+ [调优之activation、initializer、optimizer实现](/edit/code/learn_machine_learing/deep_learning/example/cifar10/vgg_tensorboard_activation-initializer-optimizer.py)\n",
    "+ [调优之图像数据增强](/edit/code/learn_machine_learing/deep_learning/example/cifar10/vgg_tensorboard_data-aug.py)\n",
    "+ [调优之加深网络](/edit/code/learn_machine_learing/deep_learning/example/cifar10/vgg_tensorboard_data-aug_deeper.py)\n",
    "+ [调优之批归一化Batch Normalization](/edit/code/learn_machine_learing/deep_learning/example/cifar10/vgg_tensorboard_data-aug_deeper_bn.py)\n",
    "+ [通过fine-tune保存模型](/edit/code/learn_machine_learing/deep_learning/example/cifar10/vgg_tensorboard_fine-tune.py)\n",
    "\n",
    "\n",
    "+ [完整模型实例：RNN、CNN、纯LSTM实现新闻多主题分类](./example/text_class)"
   ]
  },
  {
   "cell_type": "code",
   "execution_count": null,
   "metadata": {},
   "outputs": [],
   "source": []
  },
  {
   "cell_type": "code",
   "execution_count": null,
   "metadata": {},
   "outputs": [],
   "source": []
  },
  {
   "cell_type": "code",
   "execution_count": null,
   "metadata": {},
   "outputs": [],
   "source": []
  }
 ],
 "metadata": {
  "kernelspec": {
   "display_name": "Python 3",
   "language": "python",
   "name": "python3"
  },
  "language_info": {
   "codemirror_mode": {
    "name": "ipython",
    "version": 3
   },
   "file_extension": ".py",
   "mimetype": "text/x-python",
   "name": "python",
   "nbconvert_exporter": "python",
   "pygments_lexer": "ipython3",
   "version": "3.5.4"
  }
 },
 "nbformat": 4,
 "nbformat_minor": 2
}
