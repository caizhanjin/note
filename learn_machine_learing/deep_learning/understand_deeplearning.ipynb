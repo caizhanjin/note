{
 "cells": [
  {
   "cell_type": "markdown",
   "metadata": {},
   "source": [
    "# 理解深度学习\n",
    "\n",
    "### 机器学习\n",
    "\n",
    "将无序数据转化为价值的方法。从数据中抽取规律，并用于预测未来。\n",
    "\n",
    "### 深度学习\n",
    "维基：“ 一类通过多层非线性变换对高复杂性数据建模算法的合集”。深度学习有两个非常重要的特性一一多层和非线性。\n",
    "\n",
    "\n",
    "### 机器学习应用方向\n",
    "\n",
    "+ 分类问题：图像识别、垃圾邮件识别\n",
    "    + 二分类\n",
    "    + 多分类\n",
    "\n",
    "+ 回归问题：股价预测、房价预测\n",
    "\n",
    "+ 排序问题：点击率预估、推荐\n",
    "\n",
    "+ 生成问题：图片生成、图像风格转换、图像文字描述生成\n",
    "\n",
    "\n",
    "### 机器学习应用流程\n",
    "\n",
    "\n",
    "\n",
    "### 三者关系\n",
    "\n",
    "人工智能 ⊃ 机器学习 ⊃ 深度学习\n",
    "\n",
    "机器学习是实现人工智能的方法。深度学习是机器学习的一种算法，深度学习算法比较具优势。\n",
    "\n",
    "\n",
    "### 深度学习的算法\n",
    "\n",
    "+ **卷积神经网络**：常用\n",
    "\n",
    "+ **循环神经网络**：处理不正常数据，比如长度不一样、文本分类问题。\n",
    "\n",
    "+ 自动编码器\n",
    "\n",
    "+ 稀疏编码\n",
    "\n",
    "+ 深度信念网络\n",
    "\n",
    "+ 限制玻尔兹曼机\n",
    "\n",
    "+ 深度强化学习：深度学习 + 强化学习\n",
    "\n",
    "```{.python .input}\n",
    "\n",
    "```\n"
   ]
  },
  {
   "cell_type": "code",
   "execution_count": null,
   "metadata": {},
   "outputs": [],
   "source": []
  }
 ],
 "metadata": {
  "kernelspec": {
   "display_name": "Python 3",
   "language": "python",
   "name": "python3"
  },
  "language_info": {
   "codemirror_mode": {
    "name": "ipython",
    "version": 3
   },
   "file_extension": ".py",
   "mimetype": "text/x-python",
   "name": "python",
   "nbconvert_exporter": "python",
   "pygments_lexer": "ipython3",
   "version": "3.5.4"
  }
 },
 "nbformat": 4,
 "nbformat_minor": 2
}
