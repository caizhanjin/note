{
 "cells": [
  {
   "cell_type": "markdown",
   "metadata": {},
   "source": [
    "# Tensorflow之loss\n",
    "通过损失函数（loss function）来定义神经网络模型的效果以及优化的目标。\n",
    "\n",
    "分类问题和回归问题是监督学习的两大种类，经典损失函数：\n",
    "+ 分类问题：使用softmax回归之后的交叉熵\n",
    "+ 回归问题：均方误差，同时分类问题也常用\n",
    "+ 根据具体问题定义损失函数\n",
    "\n",
    "### softmax回归后接交叉熵\n",
    "交叉熵刻画了两个概率分布之间的距离， 它是分类问题中使用比较广的一种损失函数。表达式：\n",
    "![alt_text](./img/cross1.png)\n",
    "需满足：![alt_text](./img/cross2.png)\n",
    "实现：\n",
    "\n",
    "`\n",
    "y = tf.nn.softmax(tf.matmul(h, W) + b)\n",
    "cross_entropy = -tf.reduce_mean(y_ * tf.log(tf.clip_by_value(y, le-10, 1.0)))\n",
    "`\n",
    "+ `tf.clip_by_value(vule, min, max)`实现将一个张量中的数值限制在一个范围之内，这样可以避免一些运算错误（比如logO 是无效的）\n",
    "+ y_是正确结果，y是模型结果\n",
    "+ 这里矩阵是对应元素直接相乘，不是矩阵乘\n",
    "+ tensorflow对两个函数进行了封装：`cross_entropy = tf.nn.softmax_cross_entropy_with_logits(labels=y, logits=y)`\n",
    "+ 只有一个分类时，可以使用：`tf.nn.sparse_softmax_cross_entropy_with_logits`\n",
    "\n",
    "### 均方误差(MSE, mean squared error)\n",
    "回归问题中常用的损失函数。\n",
    "实现（这里的减法也是对应元素直接相减）：`mse = tf.reduce_ mean(tf.square(y_ - y))`\n",
    "![alt_text](./img/mse.png)\n"
   ]
  },
  {
   "cell_type": "code",
   "execution_count": null,
   "metadata": {},
   "outputs": [],
   "source": []
  }
 ],
 "metadata": {
  "kernelspec": {
   "display_name": "Python 3",
   "language": "python",
   "name": "python3"
  },
  "language_info": {
   "codemirror_mode": {
    "name": "ipython",
    "version": 3
   },
   "file_extension": ".py",
   "mimetype": "text/x-python",
   "name": "python",
   "nbconvert_exporter": "python",
   "pygments_lexer": "ipython3",
   "version": "3.5.4"
  }
 },
 "nbformat": 4,
 "nbformat_minor": 2
}
