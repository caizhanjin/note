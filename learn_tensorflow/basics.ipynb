{
 "cells": [
  {
   "cell_type": "markdown",
   "metadata": {},
   "source": [
    "# TensorFlow基础\n",
    "\n",
    "### 命令式编程和声明式编程区别\n",
    "\n",
    "+ 命令式编程：命令“机器”如何去做事情(how)，这样不管你想要的是什么(what)，它都会按照你的命令实现。\n",
    "\n",
    "+ 声明式编程：告诉“机器”你想要的是什么(what)，让机器想出如何去做(how)。\n",
    "\n",
    "项目|命令式编程|声明式编程\n",
    "--|--|--\n",
    "如何执行|立即执行|先构建计算图，再输入数值计算\n",
    "优点|容易理解、灵活、基准控制、易于调试|先拿到计算图，便于优化。可视化计算图，方便存取\n",
    "缺点|提供整体优化很难，实现统一的辅助函数很难|很多语言特性用不上，不易于调试，监视中间结果不简单\n",
    "\n",
    "### 打印tensor值\n",
    "打印tensor值，必须在会话Session中进行，可以使用：\n",
    "+ print(sess.run(x)) \n",
    "+ print(x.eval())\n",
    "tensor.eval()=tf.get_default_session().run(tensor)它们的区别主要在于：使用sess.run()能在同一步获取多个tensor中的值。\n",
    "\n",
    "`\n",
    "with tf.Session() as sess:\n",
    "    print(sess.run([x，y]))   #一次能打印两个\n",
    "    print(x.eval())\n",
    "    print(y.eval()) #一次只能打印一个\n",
    "`\n",
    "\n",
    "\n",
    "### 激活函数\n",
    "目前TensorFlow提供了7种不同的非线性激活函数，tf.nn.relu、tf.sigmoid和tf.tanh是其中比较常用的几个。\n",
    "激活函数一般不改变数据的shape，只是加入了非线性因素。\n",
    "![alt_text](./img/activation.png)\n"
   ]
  },
  {
   "cell_type": "code",
   "execution_count": null,
   "metadata": {},
   "outputs": [],
   "source": []
  }
 ],
 "metadata": {
  "kernelspec": {
   "display_name": "Python 3",
   "language": "python",
   "name": "python3"
  },
  "language_info": {
   "codemirror_mode": {
    "name": "ipython",
    "version": 3
   },
   "file_extension": ".py",
   "mimetype": "text/x-python",
   "name": "python",
   "nbconvert_exporter": "python",
   "pygments_lexer": "ipython3",
   "version": "3.5.4"
  }
 },
 "nbformat": 4,
 "nbformat_minor": 2
}
