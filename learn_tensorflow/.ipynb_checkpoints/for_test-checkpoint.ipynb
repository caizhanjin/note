{
 "cells": [
  {
   "cell_type": "code",
   "execution_count": 2,
   "metadata": {},
   "outputs": [
    {
     "name": "stdout",
     "output_type": "stream",
     "text": [
      "Extracting MNIST_data\\train-images-idx3-ubyte.gz\n",
      "Extracting MNIST_data\\train-labels-idx1-ubyte.gz\n",
      "Extracting MNIST_data\\t10k-images-idx3-ubyte.gz\n",
      "Extracting MNIST_data\\t10k-labels-idx1-ubyte.gz\n"
     ]
    }
   ],
   "source": [
    "\"\"\"\n",
    "例子为MNIST，对手写图片进行分类。\n",
    "神经网络hello world。\n",
    "\"\"\"\n",
    "import tensorflow as tf\n",
    "import numpy as np\n",
    "from tensorflow.examples.tutorials.mnist import input_data\n",
    "mnist = input_data.read_data_sets('MNIST_data', one_hot=True)"
   ]
  },
  {
   "cell_type": "code",
   "execution_count": 3,
   "metadata": {},
   "outputs": [
    {
     "name": "stdout",
     "output_type": "stream",
     "text": [
      "(784,)\n",
      "(28, 28)\n"
     ]
    },
    {
     "data": {
      "text/plain": [
       "<Figure size 640x480 with 1 Axes>"
      ]
     },
     "metadata": {},
     "output_type": "display_data"
    }
   ],
   "source": [
    "# 看看数据\n",
    "print(mnist.train.next_batch(50)[0][0].shape)\n",
    "data = mnist.train.next_batch(50)[0][0]\n",
    "reshape_data = data.reshape([28, 28])\n",
    "\n",
    "print(reshape_data.shape)\n",
    "\n",
    "import matplotlib.pyplot as plt\n",
    "plt.imshow(reshape_data, cmap=plt.cm.binary)\n",
    "plt.show()"
   ]
  },
  {
   "cell_type": "code",
   "execution_count": 4,
   "metadata": {},
   "outputs": [],
   "source": [
    "# 封装网络用到的API\n",
    "def weight_variable(shape):\n",
    "    initial = tf.truncated_normal(shape, stddev=0.1)\n",
    "    return tf.Variable(initial)\n",
    "\n",
    "def bias_variable(shape):\n",
    "    initial = tf.constant(0.1, shape=shape)\n",
    "    return tf.Variable(initial)\n",
    "\n",
    "\n",
    "def conv2d(x, W):\n",
    "    return tf.nn.conv2d(x, \n",
    "                        W, \n",
    "                        strides= [1, 1, 1, 1], \n",
    "                        padding= 'SAME')\n",
    "\n",
    "def max_pool_2x2(x):\n",
    "    return tf.nn.max_pool(x, \n",
    "                          ksize= [1, 2, 2, 1],\n",
    "                          strides= [1, 2, 2, 1],\n",
    "                          padding='SAME')"
   ]
  },
  {
   "cell_type": "code",
   "execution_count": 10,
   "metadata": {},
   "outputs": [
    {
     "name": "stdout",
     "output_type": "stream",
     "text": [
      "50.000004\n",
      "test accuracy 0.7231\n"
     ]
    }
   ],
   "source": [
    "\"\"\"\n",
    "MNIST进阶\n",
    "\"\"\"\n",
    "sess = tf.InteractiveSession()\n",
    "# [batch_size, 784]\n",
    "x = tf.placeholder('float', shape=[None, 784]) \n",
    "y_ = tf.placeholder('float', shape=[None, 10])\n",
    "\n",
    "\"\"\"\n",
    "第一层卷积\n",
    "\"\"\"\n",
    "W_conv1 = weight_variable([5, 5, 1, 32])\n",
    "b_conv1 = bias_variable([32])\n",
    "\n",
    "# [batch_size, 28, 28, 1]\n",
    "x_image = tf.reshape(x, [-1, 28, 28, 1]) \n",
    "\n",
    "# [batch_size, 28, 28, 32]\n",
    "h_conv1 = tf.nn.relu(conv2d(x_image, W_conv1) + b_conv1) \n",
    "# [batch_size, 14, 14, 32]\n",
    "h_pool1 = max_pool_2x2(h_conv1) \n",
    "\n",
    "\"\"\"\n",
    "第二层卷积\n",
    "\"\"\"\n",
    "W_conv2 = weight_variable([5, 5, 32, 64]) \n",
    "b_conv2 = bias_variable([64]) \n",
    "\n",
    "# [batch_size, 14, 14, 64]\n",
    "h_conv2 = tf.nn.relu(conv2d(h_pool1, W_conv2) + b_conv2) \n",
    "# [batch_size, 7, 7, 64]\n",
    "h_pool2 = max_pool_2x2(h_conv2)\n",
    "\n",
    "\"\"\"\n",
    "全连接层\n",
    "\"\"\"\n",
    "w_fc1 = weight_variable([7*7*64, 1024])\n",
    "b_fc1 = bias_variable([1024])\n",
    "\n",
    "# [batch_size, 7*7*64]\n",
    "h_pool2_flat = tf.reshape(h_pool2, [-1, 7*7*64])\n",
    "# [batch_size, 1024]\n",
    "h_fc1 = tf.nn.relu(tf.matmul(h_pool2_flat, w_fc1) + b_fc1)\n",
    "\n",
    "\"\"\"\n",
    "dropout\n",
    "\"\"\"\n",
    "keep_prob = tf.placeholder(\"float\")\n",
    "h_fc1_drop = tf.nn.dropout(h_fc1, keep_prob)\n",
    "\n",
    "\"\"\"\n",
    "输出层\n",
    "\"\"\"\n",
    "W_fc2 = weight_variable([1024, 10])\n",
    "b_fc2 = bias_variable([10])\n",
    "\n",
    "# [batch_size, 10]\n",
    "y_conv = tf.nn.softmax(tf.matmul(h_fc1_drop, W_fc2) + b_fc2)\n",
    "y_sum = tf.reduce_sum(y_conv)\n",
    "\n",
    "# 计算损失和添加优化器\n",
    "cross_entropy = -tf.reduce_sum(y_*tf.log(y_conv))\n",
    "train_step = tf.train.AdamOptimizer(1e-4).minimize(cross_entropy)\n",
    "\n",
    "# 评估模型\n",
    "correct_prediction = tf.equal(tf.argmax(y_conv,1), tf.argmax(y_,1))\n",
    "accuracy = tf.reduce_mean(tf.cast(correct_prediction, \"float\"))\n",
    "\n",
    "# 初始化\n",
    "sess.run(tf.initialize_all_variables())\n",
    "\n",
    "for i in range(2000):\n",
    "  batch = mnist.train.next_batch(50)\n",
    "\n",
    "  if i%100 == 0:\n",
    "    train_accuracy = accuracy.eval(feed_dict={x:batch[0], \n",
    "                                              y_: batch[1], \n",
    "                                              keep_prob: 1.0})\n",
    "    print(\"step %d, training accuracy %g\" % (i, train_accuracy)) \n",
    "\n",
    "  train_step.run(feed_dict={x: batch[0], \n",
    "                            y_: batch[1],\n",
    "                            keep_prob: 0.5})\n",
    "\n",
    "print(\"test accuracy %g\"%accuracy.eval(feed_dict={x: mnist.test.images, \n",
    "                                                  y_: mnist.test.labels, \n",
    "                                                  keep_prob: 1.0}))\n",
    "\n"
   ]
  },
  {
   "cell_type": "code",
   "execution_count": null,
   "metadata": {},
   "outputs": [],
   "source": [
    "\"\"\"\n",
    "MNIST入门\n",
    "\"\"\"\n",
    "sess = tf.InteractiveSession()\n",
    "\n",
    "x = tf.placeholder('float', shape=[None, 784])\n",
    "y_ = tf.placeholder('float', shape=[None, 10])\n",
    "\n",
    "W = tf.Variable(tf.zeros([784, 10]))\n",
    "b = tf.Variable(tf.zeros([10]))\n",
    "\n",
    "sess.run(tf.initialize_all_variables())\n",
    "# [batch_size,]\n",
    "y = tf.nn.softmax(tf.matmul(x, W) + b)\n",
    "# 交叉熵计算公式\n",
    "cross_entropy = -tf.reduce_sum(y_*tf.log(y))\n",
    "\n",
    "train_step = tf.train.GradientDescentOptimizer(0.01).minimize(cross_entropy)\n",
    "\n",
    "for i in range(1001):\n",
    "    batch = mnist.train.next_batch(50)\n",
    "    cross_entropy_result = cross_entropy.eval(feed_dict={\n",
    "        x: batch[0],\n",
    "        y_: batch[1]\n",
    "    })\n",
    "    # 训练网络\n",
    "    train_step.run(feed_dict={\n",
    "        x: batch[0],\n",
    "        y_: batch[1]})\n",
    "    if i%100==0:\n",
    "        # 评估网络\n",
    "        correct_prediction = tf.equal(tf.argmax(y,1), tf.argmax(y_,1))\n",
    "        accuracy = tf.reduce_mean(tf.cast(correct_prediction, \"float\"))\n",
    "        accuracy_result = accuracy.eval(feed_dict={x: mnist.test.images, y_: mnist.test.labels})\n",
    "        print(\"Step: %d, loss: %s, accuracy: %s\" % (i, cross_entropy_result, accuracy_result))\n"
   ]
  },
  {
   "cell_type": "code",
   "execution_count": 1,
   "metadata": {},
   "outputs": [
    {
     "ename": "NameError",
     "evalue": "name 'tf' is not defined",
     "output_type": "error",
     "traceback": [
      "\u001b[1;31m---------------------------------------------------------------------------\u001b[0m",
      "\u001b[1;31mNameError\u001b[0m                                 Traceback (most recent call last)",
      "\u001b[1;32m<ipython-input-1-7904a9ea8a9f>\u001b[0m in \u001b[0;36m<module>\u001b[1;34m\u001b[0m\n\u001b[1;32m----> 1\u001b[1;33m data = tf.random_uniform(shape=[1000, 1],\n\u001b[0m\u001b[0;32m      2\u001b[0m                         \u001b[0mmaxval\u001b[0m\u001b[1;33m=\u001b[0m\u001b[1;36m9\u001b[0m\u001b[1;33m,\u001b[0m\u001b[1;33m\u001b[0m\u001b[0m\n\u001b[0;32m      3\u001b[0m                         dtype=tf.double)\n\u001b[0;32m      4\u001b[0m \u001b[1;33m\u001b[0m\u001b[0m\n\u001b[0;32m      5\u001b[0m \u001b[1;33m\u001b[0m\u001b[0m\n",
      "\u001b[1;31mNameError\u001b[0m: name 'tf' is not defined"
     ]
    }
   ],
   "source": [
    "import tensorflow as tf\n",
    "data = tf.random_uniform(shape=[1000, 1],\n",
    "                        maxval=9,\n",
    "                        dtype=tf.double)\n",
    "\n",
    "\n",
    "print(data)\n",
    "print(data.shape)"
   ]
  },
  {
   "cell_type": "code",
   "execution_count": null,
   "metadata": {},
   "outputs": [],
   "source": []
  }
 ],
 "metadata": {
  "kernelspec": {
   "display_name": "Python 3",
   "language": "python",
   "name": "python3"
  },
  "language_info": {
   "codemirror_mode": {
    "name": "ipython",
    "version": 3
   },
   "file_extension": ".py",
   "mimetype": "text/x-python",
   "name": "python",
   "nbconvert_exporter": "python",
   "pygments_lexer": "ipython3",
   "version": "3.5.0"
  }
 },
 "nbformat": 4,
 "nbformat_minor": 2
}
