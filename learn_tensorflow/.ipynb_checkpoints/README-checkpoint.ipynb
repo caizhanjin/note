{
 "cells": [
  {
   "cell_type": "markdown",
   "metadata": {},
   "source": [
    "## TensorFlow\n",
    "\n",
    "+ [实例整理](./examples.ipynb)\n",
    "\n",
    "\n",
    "+ [概念或资料整理](./concept.ipynb)\n",
    "+ [基础](./basics.md)\n",
    "+ [变量管理](./variable.ipynb)\n",
    "+ [tf.data](./tf_data.ipynb)\n",
    "+ [Tensorflow之损失函数](./loss.ipynb)\n",
    "+ [Tensorflow之优化算法（十种）](./optimizer.ipynb)\n",
    "+ [神经网络优化几种方法](./regularizer.ipynb)\n",
    "+ [特征列 Feature Column](./feature_column.ipynb)\n",
    "+ fine-tune\n",
    "+ tensorBoard\n",
    "+ [图像数据增强](./data_img_enhance.ipynb)\n",
    "\n",
    "\n",
    "+ [高阶API之tf.keras](./keras.ipynb)\n",
    "+ [高阶API之tf.estimator](./keras.ipynb)\n",
    "+ 高阶API之layers模块  http://ju.outofmemory.cn/entry/344970\n",
    "   \n",
    "\n",
    "+ [提供server之docker环境部署](./docker.ipynb)\n",
    "    \n",
    "    \n",
    "+ tensorflow之hoot\n",
    "    + https://blog.csdn.net/MrR1ght/article/details/81006343"
   ]
  },
  {
   "cell_type": "code",
   "execution_count": null,
   "metadata": {},
   "outputs": [],
   "source": []
  }
 ],
 "metadata": {
  "kernelspec": {
   "display_name": "Python 3",
   "language": "python",
   "name": "python3"
  },
  "language_info": {
   "codemirror_mode": {
    "name": "ipython",
    "version": 3
   },
   "file_extension": ".py",
   "mimetype": "text/x-python",
   "name": "python",
   "nbconvert_exporter": "python",
   "pygments_lexer": "ipython3",
   "version": "3.5.4"
  }
 },
 "nbformat": 4,
 "nbformat_minor": 2
}
