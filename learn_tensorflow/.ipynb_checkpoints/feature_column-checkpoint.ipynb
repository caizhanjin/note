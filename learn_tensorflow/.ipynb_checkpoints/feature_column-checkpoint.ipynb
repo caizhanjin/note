{
 "cells": [
  {
   "cell_type": "markdown",
   "metadata": {},
   "source": [
    "# 特征列\n",
    "\n",
    "特征列主要解决对用户数据进行预处理与特征化的处理，这种技术的出现主要是原始输入数据的多样性。\n",
    "\n",
    "![alt_text](./img/feature.png)\n",
    "\n",
    "https://blog.csdn.net/amao1998/article/details/80191978\n",
    "\n",
    "https://blog.csdn.net/u014021893/article/details/80423112"
   ]
  },
  {
   "cell_type": "code",
   "execution_count": null,
   "metadata": {},
   "outputs": [],
   "source": []
  }
 ],
 "metadata": {
  "kernelspec": {
   "display_name": "Python 3",
   "language": "python",
   "name": "python3"
  },
  "language_info": {
   "codemirror_mode": {
    "name": "ipython",
    "version": 3
   },
   "file_extension": ".py",
   "mimetype": "text/x-python",
   "name": "python",
   "nbconvert_exporter": "python",
   "pygments_lexer": "ipython3",
   "version": "3.5.4"
  }
 },
 "nbformat": 4,
 "nbformat_minor": 2
}
