{
 "cells": [
  {
   "cell_type": "markdown",
   "metadata": {},
   "source": [
    "# 概念或基础集合\n",
    "\n",
    "\n",
    "### tf.GraphKeys\n",
    "tf.GraphKeys包含所有graph collection中的标准集合名，有点像Python里的build-in fuction。\n",
    "\n",
    "https://blog.csdn.net/hustqb/article/details/80398934\n",
    "\n",
    "### 特征列\n",
    "特征列主要解决对用户数据进行预处理与特征化的处理，这种技术的出现主要是原始输入数据的多样性。\n",
    "\n",
    "https://blog.csdn.net/amao1998/article/details/80191978\n",
    "\n",
    "https://blog.csdn.net/u014021893/article/details/80423112\n",
    "\n"
   ]
  },
  {
   "cell_type": "code",
   "execution_count": null,
   "metadata": {},
   "outputs": [],
   "source": []
  }
 ],
 "metadata": {
  "kernelspec": {
   "display_name": "Python 3",
   "language": "python",
   "name": "python3"
  },
  "language_info": {
   "codemirror_mode": {
    "name": "ipython",
    "version": 3
   },
   "file_extension": ".py",
   "mimetype": "text/x-python",
   "name": "python",
   "nbconvert_exporter": "python",
   "pygments_lexer": "ipython3",
   "version": "3.5.4"
  }
 },
 "nbformat": 4,
 "nbformat_minor": 2
}
