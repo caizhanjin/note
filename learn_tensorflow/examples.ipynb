{
 "cells": [
  {
   "cell_type": "markdown",
   "metadata": {},
   "source": [
    "# 实例汇总\n",
    "\n",
    "+ [mnist例子-官网高阶](./example/mnist_conv.ipynb)\n",
    "\n",
    "\n",
    "+ [mnist基础实例-《实战》](./example/mnist_conv2.ipynb)\n",
    "+ [mnist优化实例-《实战》](./example/mnist_conv3)\n",
    "    + mnist_inference.py ：定义前向传播的过程和神经网络的参数\n",
    "    + mnist_train.py ：定义神经网络训练过程\n",
    "    + mnist_eval.py ：定义测试过程\n",
    "\n",
    "\n",
    "+ [LSTM预测sin函数-《实战》](./example/mnist_conv2.ipynb)\n",
    "\n",
    "\n",
    "\n",
    "\n",
    "\n"
   ]
  },
  {
   "cell_type": "code",
   "execution_count": null,
   "metadata": {},
   "outputs": [],
   "source": []
  }
 ],
 "metadata": {
  "kernelspec": {
   "display_name": "Python 3",
   "language": "python",
   "name": "python3"
  },
  "language_info": {
   "codemirror_mode": {
    "name": "ipython",
    "version": 3
   },
   "file_extension": ".py",
   "mimetype": "text/x-python",
   "name": "python",
   "nbconvert_exporter": "python",
   "pygments_lexer": "ipython3",
   "version": "3.5.4"
  }
 },
 "nbformat": 4,
 "nbformat_minor": 2
}
