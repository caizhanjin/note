{
 "cells": [
  {
   "cell_type": "markdown",
   "metadata": {},
   "source": [
    "### SWAP ： 交换分区，虚拟内存\n",
    "\n",
    "参考链接：https://help.aliyun.com/knowledge_detail/42534.html?spm=5176.10695662.1996646101.searchclickresult.35aa544ckabE9u\n",
    "\n",
    "```\n",
    "dd if=/dev/zero of=/mnt/swap bs=1M count=5120  # 创建用于交换分区的文件\n",
    "mkswap /mnt/swap                               # 设置交换分区文件\n",
    "swapon /mnt/swap                               # 立即启用交换分区文件\n",
    "\n",
    "# 注：如果在 /etc/rc.local 中有 swapoff -a 需要修改为 swapon -a\n",
    "vim /etc/rc.local\n",
    "\n",
    "# 设置开机时自启用 SWAP 分区\n",
    "vim /etc/fstab  --> 添加 /mnt/swap swap swap defaults 0 0\n",
    "\n",
    "# 修改 swpapiness 参数\n",
    "echo 10 >/proc/sys/vm/swappiness\n",
    "\n",
    "# 永久修改此配置\n",
    "vim /etc/sysctl.conf  --> 添加 vm.swappiness=10\n",
    "sysctl -p\n",
    "\n",
    "# 查询 SWAP 分区设置\n",
    "free -m \n",
    "```"
   ]
  },
  {
   "cell_type": "code",
   "execution_count": null,
   "metadata": {},
   "outputs": [],
   "source": []
  }
 ],
 "metadata": {
  "kernelspec": {
   "display_name": "Python 3",
   "language": "python",
   "name": "python3"
  },
  "language_info": {
   "codemirror_mode": {
    "name": "ipython",
    "version": 3
   },
   "file_extension": ".py",
   "mimetype": "text/x-python",
   "name": "python",
   "nbconvert_exporter": "python",
   "pygments_lexer": "ipython3",
   "version": "3.5.4"
  }
 },
 "nbformat": 4,
 "nbformat_minor": 2
}
