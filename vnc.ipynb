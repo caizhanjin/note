{
 "cells": [
  {
   "cell_type": "markdown",
   "metadata": {},
   "source": [
    "### 服务器：用VNC搭建Ubuntu VNC可视化界面\n",
    "\n",
    "参考链接：https://help.aliyun.com/knowledge_detail/59330.html\n",
    "\n",
    "```\n",
    "# VNC的安装与配置\n",
    "sudo apt-get update\n",
    "apt-get install vnc4server   # 安装VNC\n",
    "vncserver                    # 启动VNC\n",
    "\n",
    "# gnome 桌面环境安装与配置\n",
    "sudo apt-get install x-window-system-core      # 安装x－windows的基础\n",
    "sudo apt-get install gdm                       # 安装登录管理器\n",
    "sudo apt-get install ubuntu-desktop            # 安装Ubuntu的桌面\n",
    "sudo apt-get install gnome-panel gnome-settings-daemon metacity nautilus gnome-terminal   # 安装gnome配套软件\n",
    "\n",
    "# 修改VNC配置文件\n",
    "vi ~/.vnc/xstartup\n",
    "\n",
    "修改为：\n",
    "#!/bin/sh\n",
    "# Uncomment the following two lines for normal desktop:\n",
    "export XKL_XMODMAP_DISABLE=1\n",
    "unset SESSION_MANAGER\n",
    "# exec /etc/X11/xinit/xinitrc\n",
    "unset DBUS_SESSION_BUS_ADDRESS\n",
    "gnome-panel &\n",
    "gnome-settings-daemon &\n",
    "metacity &\n",
    "nautilus &\n",
    "gnome-terminal &\n",
    "\n",
    "vncserver -kill :1     # 杀掉原桌面进程\n",
    "vncserver :1 -geometry 1600x900           # 生成新的会话\n",
    "\n",
    "解决登录过多的安全问题\n",
    "vncconfig -display :1 -set BlacklistTimeout=0 -set BlacklistThreshold=1000000         # 关闭\n",
    "vncconfig -display :1 -set BlacklistTimeout=100000000000 -set BlacklistThreshold=10   # 复原\n",
    "```"
   ]
  },
  {
   "cell_type": "code",
   "execution_count": null,
   "metadata": {},
   "outputs": [],
   "source": []
  }
 ],
 "metadata": {
  "kernelspec": {
   "display_name": "Python 3",
   "language": "python",
   "name": "python3"
  },
  "language_info": {
   "codemirror_mode": {
    "name": "ipython",
    "version": 3
   },
   "file_extension": ".py",
   "mimetype": "text/x-python",
   "name": "python",
   "nbconvert_exporter": "python",
   "pygments_lexer": "ipython3",
   "version": "3.5.4"
  }
 },
 "nbformat": 4,
 "nbformat_minor": 2
}
